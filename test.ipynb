{
 "cells": [
  {
   "cell_type": "code",
   "execution_count": 1,
   "metadata": {},
   "outputs": [],
   "source": [
    "%config InlineBackend.figure_format = 'retina'\n",
    "%matplotlib inline\n",
    "import matplotlib.pyplot as plt\n",
    "import numpy as np\n",
    "import os\n",
    "import torch\n",
    "import torch.utils.data as data\n",
    "import torchvision\n",
    "import torchvision.transforms as transforms\n",
    "import torchvision.datasets as dsets\n",
    "from kLSTM import *\n",
    "from sklearn.metrics import accuracy_score\n",
    "\n",
    "def train(model, device, train_loader, optimizer, config, epoch):\n",
    "    model.train()   # set model in training mode\n",
    "    losses = []\n",
    "    scores = []\n",
    "\n",
    "    for batch_idx, (X, y) in enumerate(train_loader):\n",
    "        # distribute data to device\n",
    "        X, y = X.to(device), y.to(device)\n",
    "        X = torch.squeeze(X, 1)  # remove grey-level channel of MNIST\n",
    "\n",
    "        optimizer.zero_grad()\n",
    "        output, layer_z_T, layer_qz_T, layer_h_T, _ = model(X, config.tau, is_training=True)\n",
    "        '''layer_qz_T= qz_T in last layer'''\n",
    "\n",
    "        # computing entropy loss\n",
    "        entropy = - layer_qz_T * torch.log(layer_qz_T + 1e-20)\n",
    "        loss2 = torch.mean(torch.sum(entropy, (1, 2)))\n",
    "\n",
    "        # define total loss\n",
    "        if config.obj == 'ER':\n",
    "            loss = F.cross_entropy(output, y) - config.beta * loss2\n",
    "        elif config.obj == 'VB':\n",
    "            loss = F.cross_entropy(output, y) - loss2\n",
    "        elif config.obj == 'MLE':\n",
    "            loss = F.cross_entropy(output, y)\n",
    "\n",
    "        losses.append(loss.item())\n",
    "\n",
    "        # to compute accuracy\n",
    "        y_pred = torch.max(output, 1)[1]  # convert output -> y_pred\n",
    "        step_score = accuracy_score(y.cpu().data.squeeze().numpy(), y_pred.cpu().data.squeeze().numpy())\n",
    "        scores.append(step_score)         # computed on CPU\n",
    "\n",
    "        loss.backward()\n",
    "\n",
    "        # # `clip_grad_norm` helps prevent the exploding gradient problem in RNNs / LSTMs.\n",
    "        torch.nn.utils.clip_grad_norm_(model.parameters(), config.clip)\n",
    "        for p in model.parameters():\n",
    "            p.data.add_(-config.lr, p.grad.data)\n",
    "\n",
    "        optimizer.step()\n",
    "\n",
    "        # show information\n",
    "        if batch_idx % config.log_interval == 0:\n",
    "            print(\"Learning rate: {:.4f}, Temperature: {:.3f}\\n\".format(config.lr, config.tau))\n",
    "            print('Train Epoch: {} [{}/{} ({:.0f}%)]\\tLoss: {:.6f}, Accu: {:.2f}%'.format(\n",
    "                epoch, batch_idx * len(X), len(train_loader.dataset),\n",
    "                100. * batch_idx / len(train_loader), loss.item(), 100 * step_score))\n",
    "\n",
    "    return losses, scores\n",
    "\n",
    "\n",
    "def validation(model, device, test_loader, config):\n",
    "    model.eval()   # set model in testing mode\n",
    "    test_loss = 0\n",
    "    all_y = []\n",
    "    all_y_pred = []\n",
    "    with torch.no_grad():\n",
    "        for X, y in test_loader:\n",
    "            # distribute data to device\n",
    "            X, y = X.to(device), y.to(device)\n",
    "            X = torch.squeeze(X, 1)  # remove grey-level channel for MNIST\n",
    "\n",
    "            output, layer_z_T, layer_qz_T, layer_h_T, _ = model(X, config.tau, is_training=False)\n",
    "            '''layer_qz_T: last layer qz_T'''\n",
    "\n",
    "            # computing entropy loss\n",
    "            entropy = - layer_qz_T * torch.log(layer_qz_T + 1e-20)\n",
    "            entropy = entropy.sum(1).sum(1).sum()\n",
    "\n",
    "            # define total loss\n",
    "            if config.obj == 'ER':\n",
    "                loss = F.cross_entropy(output, y) - config.beta * entropy\n",
    "            elif config.obj == 'VB':\n",
    "                loss = F.cross_entropy(output, y) - entropy\n",
    "            elif config.obj == 'MLE':\n",
    "                loss = F.cross_entropy(output, y)\n",
    "\n",
    "            test_loss += loss.item()                 # sum up batch loss\n",
    "            y_pred = output.max(1, keepdim=True)[1]  # (y_pred != output) get the index of the max log-probability\n",
    "\n",
    "            # collect all y and y_pred in all batches\n",
    "            all_y.extend(y)\n",
    "            all_y_pred.extend(y_pred)\n",
    "\n",
    "    test_loss /= len(test_loader.dataset)\n",
    "\n",
    "    # to compute accuracy\n",
    "    all_y = torch.stack(all_y, dim=0)\n",
    "    all_y_pred = torch.stack(all_y_pred, dim=0)\n",
    "    test_score = accuracy_score(all_y.cpu().data.squeeze().numpy(), all_y_pred.cpu().data.squeeze().numpy())\n",
    "\n",
    "    # show info\n",
    "    print('\\nTest set ({:d} samples): Average loss: {:.4f}, Accuracy: {:.2f}%\\n'.format(len(all_y), test_loss, 100 * test_score))\n",
    "\n",
    "    return test_loss, test_score"
   ]
  },
  {
   "cell_type": "markdown",
   "metadata": {},
   "source": [
    "### set training parameters"
   ]
  },
  {
   "cell_type": "code",
   "execution_count": 2,
   "metadata": {},
   "outputs": [],
   "source": [
    "class Config(object):\n",
    "    init_scale = 0.1\n",
    "    epochs = 10\n",
    "    batch_size = 150\n",
    "    display_step = 100\n",
    "    lr = 1e-3\n",
    "    clip = 0.25         # gradient clip threshold to avoid grdient explosion\n",
    "    vocab_size = 10000\n",
    "    tau0 = 5.0          # initial temperature\n",
    "    anneal_rate = 0.1\n",
    "    min_temp = 0.1\n",
    "    beta = 0.001\n",
    "    log_interval = 100\n",
    "    obj = 'ER'          # define MRNN loss objective, select: 'MLE','VB','ER'\n",
    "\n",
    "    # Network Parameters\n",
    "    input_size = 28\n",
    "    hidden_size = 128\n",
    "    num_class = 10\n",
    "    T = 28              # timesteps of data\n",
    "    num_layers = 3\n",
    "    K = 4               # LSTM numbers\n",
    "\n",
    "config = Config()\n",
    "\n",
    "# output\n",
    "output_folder = './outputs/'"
   ]
  },
  {
   "cell_type": "markdown",
   "metadata": {},
   "source": [
    "### use MNIST dataset"
   ]
  },
  {
   "cell_type": "code",
   "execution_count": 3,
   "metadata": {},
   "outputs": [
    {
     "name": "stdout",
     "output_type": "stream",
     "text": [
      "Downloading http://yann.lecun.com/exdb/mnist/train-images-idx3-ubyte.gz\n",
      "Downloading http://yann.lecun.com/exdb/mnist/train-labels-idx1-ubyte.gz\n",
      "Downloading http://yann.lecun.com/exdb/mnist/t10k-images-idx3-ubyte.gz\n",
      "Downloading http://yann.lecun.com/exdb/mnist/t10k-labels-idx1-ubyte.gz\n",
      "Processing...\n",
      "Done!\n"
     ]
    }
   ],
   "source": [
    "# MNIST dataset\n",
    "train_dataset = torchvision.datasets.MNIST(root='./MNIST/', train=True, transform=transforms.ToTensor(), download=True)\n",
    "test_dataset = torchvision.datasets.MNIST(root='./MNIST/', train=False, transform=transforms.ToTensor())\n",
    "\n",
    "# Data loader\n",
    "train_loader = torch.utils.data.DataLoader(dataset=train_dataset, batch_size=config.batch_size, shuffle=True)\n",
    "test_loader = torch.utils.data.DataLoader(dataset=test_dataset, batch_size=config.batch_size, shuffle=False)"
   ]
  },
  {
   "cell_type": "code",
   "execution_count": 20,
   "metadata": {},
   "outputs": [
    {
     "data": {
      "image/png": "[encoded data removed]",
      "text/plain": [
       "<Figure size 432x288 with 1 Axes>"
      ]
     },
     "metadata": {
      "image/png": {
       "height": 250,
       "width": 253
      },
      "needs_background": "light"
     },
     "output_type": "display_data"
    }
   ],
   "source": [
    "X, y = next(iter(train_loader))\n",
    "\n",
    "plt.figure()\n",
    "plt.imshow(X[0, 0, :, :])\n",
    "plt.savefig('./digit.png', dpi=600)\n",
    "plt.show()"
   ]
  },
  {
   "cell_type": "markdown",
   "metadata": {},
   "source": [
    "### start training"
   ]
  },
  {
   "cell_type": "code",
   "execution_count": null,
   "metadata": {
    "scrolled": true
   },
   "outputs": [],
   "source": [
    "# check GPU devices\n",
    "use_cuda = torch.cuda.is_available()                   # check if GPU exists\n",
    "device = torch.device(\"cuda\" if use_cuda else \"cpu\")   # use CPU or GPU\n",
    "\n",
    "# set dataloader parameters\n",
    "params = {'batch_size': config.batch_size, 'shuffle': True, 'num_workers': 4, 'pin_memory': True} if use_cuda else {}\n",
    "\n",
    "# create model\n",
    "mrnn = LSTM(cell_class=LSTMCell, input_size=config.T, hidden_size=config.hidden_size,\n",
    "            output_size=config.num_class, num_layers=config.num_layers, k_cells=config.K, use_bias=True, dropout_prob=0.5).to(device)\n",
    "\n",
    "optimizer = torch.optim.Adam(mrnn.parameters(), lr=config.lr)   # optimize all cnn parameters\n",
    "\n",
    "# Training cycle\n",
    "for epoch in range(config.epochs):\n",
    "    avg_cost = 0.\n",
    "\n",
    "    # adjust Gumbel softmax temp\n",
    "    config.tau = np.maximum(config.tau0 * np.exp(-config.anneal_rate * epoch), config.min_temp)\n",
    "    # training model\n",
    "    train_losses, train_scores = train(mrnn, device, train_loader, optimizer, config, epoch)\n",
    "\n",
    "for epoch in range(1):\n",
    "    # model validation\n",
    "    print('-' * 80); print('validating'); print('-' * 80)\n",
    "    epoch_test_loss, epoch_test_score = validation(mrnn, device, test_loader, config)"
   ]
  },
  {
   "cell_type": "markdown",
   "metadata": {},
   "source": [
    "## Display some images"
   ]
  },
  {
   "cell_type": "code",
   "execution_count": null,
   "metadata": {
    "scrolled": true
   },
   "outputs": [],
   "source": [
    "total_prob = 0\n",
    "eval_config = Config()\n",
    "eval_config.batch_size = 1\n",
    "eval_config.T = 1\n",
    "\n",
    "X = test_loader.dataset.test_data.to(device)\n",
    "y = test_loader.dataset.test_labels.to(device)\n",
    "\n",
    "for i in range(eval_config.num_class):\n",
    "    # select samples of label y=i\n",
    "    X_i, y_i = X[y == i, :].float()/255.0, y[y == i]\n",
    "\n",
    "    eval_config.batch_size = X_i.shape[0]\n",
    "    with torch.no_grad():\n",
    "        output, layer_z_T, layer_qz_T, layer_h_T, _ = mrnn(X_i, eval_config.tau0, is_training=False)\n",
    "    \n",
    "    # compute probability of LSTM usage (integrating) over time and selected samples\n",
    "    prob = torch.einsum('ijk->k', (layer_z_T,)) / torch.sum(layer_z_T)\n",
    "    prob = prob.data.cpu().numpy()\n",
    "    total_prob += prob\n",
    "\n",
    "    # plot image\n",
    "    plt.figure(figsize=(10, 4))\n",
    "    plt.subplot(1, 2, 1)\n",
    "    plt.imshow(X_i.data.cpu()[0])\n",
    "    plt.axis('off')\n",
    "\n",
    "    # plot probability(k LSTM)\n",
    "    plt.subplot(1, 2, 2)\n",
    "    plt.bar(np.arange(eval_config.K) + 1, prob, alpha=0.8)\n",
    "    plt.xlabel('{} LSTMs'.format(eval_config.K))\n",
    "    plt.ylabel('Probability')\n",
    "    # plt.savefig(os.path.join(output_folder, 'digit{}_transition.png'.format(i)), dpi=600)\n",
    "    plt.show()\n",
    "\n",
    "# plot total probability (over all classes [labels])\n",
    "total_prob = total_prob / eval_config.num_class\n",
    "plt.figure(figsize=(5, 5))\n",
    "plt.bar(np.arange(eval_config.K) + 1, total_prob, alpha=0.8)\n",
    "plt.xlabel('{} LSTMs'.format(eval_config.K))\n",
    "plt.ylabel('Total probability (over all timesteps)')\n",
    "plt.show()"
   ]
  },
  {
   "cell_type": "markdown",
   "metadata": {},
   "source": [
    "## Plot $z(t)$ and $q_z(t)$ , where $t \\in [0, T]$"
   ]
  },
  {
   "cell_type": "code",
   "execution_count": null,
   "metadata": {
    "scrolled": false
   },
   "outputs": [],
   "source": [
    "random_pick = 2   # random pick a sample in the same category\n",
    "\n",
    "# parameters for ploting image series\n",
    "ncols, nrows = config.T, 1\n",
    "photow, photoh = 20, 20\n",
    "marl, mart, marr, marb = 1, 1, 1, 1\n",
    "padding = True\n",
    "\n",
    "for i in range(eval_config.num_class):\n",
    "    # select samples of label y=i\n",
    "    X_i, y_i = X[y == i, :].float() / 255, y[y == i]\n",
    "\n",
    "    eval_config.batch_size = 5\n",
    "    X_i, y_i = X_i[:eval_config.batch_size], y_i[:eval_config.batch_size]\n",
    "\n",
    "    with torch.no_grad():\n",
    "        output, layer_z_T, layer_qz_T, layer_h_T, _ = mrnn(X_i, eval_config.tau0, is_training=False)\n",
    "    \n",
    "    # plot MNIST digit as time series\n",
    "    A = (X_i[random_pick].data.cpu().numpy() * 255).astype(np.uint8)\n",
    "    frames = [np.zeros((config.T, config.T)).astype(np.uint8) for j in range(config.T)]\n",
    "    for j in range(config.T):\n",
    "        frames[j][j, :] = A[j, :]\n",
    "    \n",
    "    # print original image at the end\n",
    "    frames[-1] = A\n",
    "    \n",
    "    # make image as series\n",
    "    image_series = plot_image_series(frames, ncols, nrows, photow, photoh, marl, mart, marr, marb, padding)\n",
    "\n",
    "    # plot 1: image (time) series\n",
    "    plt.figure(figsize=(17, 15))\n",
    "    plt.imshow(np.asarray(image_series))\n",
    "    plt.axis('off')\n",
    "    plt.title('{}'.format(i))\n",
    "    # plt.savefig(os.path.join(output_folder, 'digit{}.png'.format(i)), dpi=600)\n",
    "    plt.show()\n",
    "    \n",
    "    # plot 2: soft transition function: q_z(t)\n",
    "    plt.figure(figsize=(18, 15))\n",
    "    plt.imshow(layer_qz_T[random_pick].data.cpu().numpy().T)\n",
    "    plt.xlabel('q_z(t)')\n",
    "    plt.ylabel('{} LSTMs'.format(eval_config.K))\n",
    "    plt.grid()\n",
    "    # plt.savefig(os.path.join(output_folder, 'qz_t_digit{}.png'.format(i)), dpi=600)\n",
    "    plt.show()\n",
    "\n",
    "    # plot 3: Gumbel sampling of transition function: z(t)\n",
    "    plt.figure(figsize=(18, 15))\n",
    "    plt.imshow(layer_z_T[random_pick].data.cpu().numpy().T)\n",
    "    plt.xlabel('z(t)')\n",
    "    plt.ylabel('{} LSTMs'.format(eval_config.K))\n",
    "    plt.grid()\n",
    "    # plt.savefig(os.path.join(output_folder, 'z_t_digit{}.png'.format(i)), dpi=600)\n",
    "    plt.show()\n",
    "    \n",
    "    print('-' * 80)"
   ]
  },
  {
   "cell_type": "code",
   "execution_count": null,
   "metadata": {},
   "outputs": [],
   "source": []
  }
 ],
 "metadata": {
  "kernelspec": {
   "display_name": "Python 3",
   "language": "python",
   "name": "python3"
  },
  "language_info": {
   "codemirror_mode": {
    "name": "ipython",
    "version": 3
   },
   "file_extension": ".py",
   "mimetype": "text/x-python",
   "name": "python",
   "nbconvert_exporter": "python",
   "pygments_lexer": "ipython3",
   "version": "3.6.8"
  }
 },
 "nbformat": 4,
 "nbformat_minor": 2
}
